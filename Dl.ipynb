{
 "cells": [
  {
   "cell_type": "code",
   "execution_count": 1,
   "id": "6814e822-ee97-49a1-8ebc-48753644196d",
   "metadata": {},
   "outputs": [],
   "source": [
    "import pandas as pd\n",
    "import numpy as np\n",
    "import matplotlib.pyplot as plt\n",
    "\n",
    "from sklearn.model_selection import train_test_split\n",
    "from sklearn.metrics import r2_score, mean_squared_error, mean_absolute_error\n",
    "from sklearn.preprocessing import MinMaxScaler\n",
    "from sklearn.neighbors import KNeighborsRegressor\n",
    "from sklearn.linear_model import LinearRegression\n",
    "from sklearn.svm import SVR\n",
    "from sklearn.ensemble import RandomForestRegressor\n",
    "from sklearn.tree import DecisionTreeRegressor\n",
    "from scipy.stats import pearsonr\n",
    "from sklearn.ensemble import GradientBoostingRegressor\n",
    "from sklearn.linear_model import SGDRegressor\n",
    "import statsmodels.api as sm\n",
    "from sklearn.model_selection import GridSearchCV\n",
    "import seaborn as sns"
   ]
  },
  {
   "cell_type": "code",
   "execution_count": 2,
   "id": "81e94e7f-d855-48e1-8690-f45bb06456db",
   "metadata": {},
   "outputs": [],
   "source": [
    "# Reading the data\n",
    "df = pd.read_csv('task1.csv')"
   ]
  },
  {
   "cell_type": "code",
   "execution_count": 3,
   "id": "61f94d2c-8618-4675-b6e2-576aa4a8adee",
   "metadata": {},
   "outputs": [
    {
     "data": {
      "text/html": [
       "<div>\n",
       "<style scoped>\n",
       "    .dataframe tbody tr th:only-of-type {\n",
       "        vertical-align: middle;\n",
       "    }\n",
       "\n",
       "    .dataframe tbody tr th {\n",
       "        vertical-align: top;\n",
       "    }\n",
       "\n",
       "    .dataframe thead th {\n",
       "        text-align: right;\n",
       "    }\n",
       "</style>\n",
       "<table border=\"1\" class=\"dataframe\">\n",
       "  <thead>\n",
       "    <tr style=\"text-align: right;\">\n",
       "      <th></th>\n",
       "      <th>LOS</th>\n",
       "      <th>blood</th>\n",
       "      <th>circulatory</th>\n",
       "      <th>congenital</th>\n",
       "      <th>digestive</th>\n",
       "      <th>endocrine</th>\n",
       "      <th>genitourinary</th>\n",
       "      <th>infectious</th>\n",
       "      <th>injury</th>\n",
       "      <th>mental</th>\n",
       "      <th>...</th>\n",
       "      <th>AGE_newborn</th>\n",
       "      <th>AGE_senior</th>\n",
       "      <th>AGE_young_adult</th>\n",
       "      <th>MAR_DIVORCED</th>\n",
       "      <th>MAR_LIFE PARTNER</th>\n",
       "      <th>MAR_MARRIED</th>\n",
       "      <th>MAR_SEPARATED</th>\n",
       "      <th>MAR_SINGLE</th>\n",
       "      <th>MAR_UNKNOWN (DEFAULT)</th>\n",
       "      <th>MAR_WIDOWED</th>\n",
       "    </tr>\n",
       "  </thead>\n",
       "  <tbody>\n",
       "    <tr>\n",
       "      <th>0</th>\n",
       "      <td>1.144444</td>\n",
       "      <td>0.0</td>\n",
       "      <td>1.0</td>\n",
       "      <td>0.0</td>\n",
       "      <td>0.0</td>\n",
       "      <td>0.0</td>\n",
       "      <td>0.0</td>\n",
       "      <td>0.0</td>\n",
       "      <td>4.0</td>\n",
       "      <td>1.0</td>\n",
       "      <td>...</td>\n",
       "      <td>0</td>\n",
       "      <td>1</td>\n",
       "      <td>0</td>\n",
       "      <td>0</td>\n",
       "      <td>0</td>\n",
       "      <td>1</td>\n",
       "      <td>0</td>\n",
       "      <td>0</td>\n",
       "      <td>0</td>\n",
       "      <td>0</td>\n",
       "    </tr>\n",
       "    <tr>\n",
       "      <th>1</th>\n",
       "      <td>5.496528</td>\n",
       "      <td>0.0</td>\n",
       "      <td>4.0</td>\n",
       "      <td>0.0</td>\n",
       "      <td>0.0</td>\n",
       "      <td>1.0</td>\n",
       "      <td>1.0</td>\n",
       "      <td>0.0</td>\n",
       "      <td>1.0</td>\n",
       "      <td>0.0</td>\n",
       "      <td>...</td>\n",
       "      <td>0</td>\n",
       "      <td>1</td>\n",
       "      <td>0</td>\n",
       "      <td>0</td>\n",
       "      <td>0</td>\n",
       "      <td>1</td>\n",
       "      <td>0</td>\n",
       "      <td>0</td>\n",
       "      <td>0</td>\n",
       "      <td>0</td>\n",
       "    </tr>\n",
       "    <tr>\n",
       "      <th>2</th>\n",
       "      <td>6.768056</td>\n",
       "      <td>0.0</td>\n",
       "      <td>2.0</td>\n",
       "      <td>0.0</td>\n",
       "      <td>0.0</td>\n",
       "      <td>2.0</td>\n",
       "      <td>0.0</td>\n",
       "      <td>0.0</td>\n",
       "      <td>3.0</td>\n",
       "      <td>0.0</td>\n",
       "      <td>...</td>\n",
       "      <td>0</td>\n",
       "      <td>1</td>\n",
       "      <td>0</td>\n",
       "      <td>0</td>\n",
       "      <td>0</td>\n",
       "      <td>1</td>\n",
       "      <td>0</td>\n",
       "      <td>0</td>\n",
       "      <td>0</td>\n",
       "      <td>0</td>\n",
       "    </tr>\n",
       "    <tr>\n",
       "      <th>3</th>\n",
       "      <td>2.856944</td>\n",
       "      <td>0.0</td>\n",
       "      <td>2.0</td>\n",
       "      <td>0.0</td>\n",
       "      <td>1.0</td>\n",
       "      <td>1.0</td>\n",
       "      <td>0.0</td>\n",
       "      <td>0.0</td>\n",
       "      <td>0.0</td>\n",
       "      <td>0.0</td>\n",
       "      <td>...</td>\n",
       "      <td>0</td>\n",
       "      <td>0</td>\n",
       "      <td>0</td>\n",
       "      <td>0</td>\n",
       "      <td>0</td>\n",
       "      <td>0</td>\n",
       "      <td>0</td>\n",
       "      <td>1</td>\n",
       "      <td>0</td>\n",
       "      <td>0</td>\n",
       "    </tr>\n",
       "    <tr>\n",
       "      <th>4</th>\n",
       "      <td>3.534028</td>\n",
       "      <td>0.0</td>\n",
       "      <td>3.0</td>\n",
       "      <td>0.0</td>\n",
       "      <td>0.0</td>\n",
       "      <td>1.0</td>\n",
       "      <td>0.0</td>\n",
       "      <td>0.0</td>\n",
       "      <td>0.0</td>\n",
       "      <td>0.0</td>\n",
       "      <td>...</td>\n",
       "      <td>0</td>\n",
       "      <td>1</td>\n",
       "      <td>0</td>\n",
       "      <td>0</td>\n",
       "      <td>0</td>\n",
       "      <td>1</td>\n",
       "      <td>0</td>\n",
       "      <td>0</td>\n",
       "      <td>0</td>\n",
       "      <td>0</td>\n",
       "    </tr>\n",
       "  </tbody>\n",
       "</table>\n",
       "<p>5 rows × 49 columns</p>\n",
       "</div>"
      ],
      "text/plain": [
       "        LOS  blood  circulatory  congenital  digestive  endocrine  \\\n",
       "0  1.144444    0.0          1.0         0.0        0.0        0.0   \n",
       "1  5.496528    0.0          4.0         0.0        0.0        1.0   \n",
       "2  6.768056    0.0          2.0         0.0        0.0        2.0   \n",
       "3  2.856944    0.0          2.0         0.0        1.0        1.0   \n",
       "4  3.534028    0.0          3.0         0.0        0.0        1.0   \n",
       "\n",
       "   genitourinary  infectious  injury  mental  ...  AGE_newborn  AGE_senior  \\\n",
       "0            0.0         0.0     4.0     1.0  ...            0           1   \n",
       "1            1.0         0.0     1.0     0.0  ...            0           1   \n",
       "2            0.0         0.0     3.0     0.0  ...            0           1   \n",
       "3            0.0         0.0     0.0     0.0  ...            0           0   \n",
       "4            0.0         0.0     0.0     0.0  ...            0           1   \n",
       "\n",
       "   AGE_young_adult  MAR_DIVORCED  MAR_LIFE PARTNER  MAR_MARRIED  \\\n",
       "0                0             0                 0            1   \n",
       "1                0             0                 0            1   \n",
       "2                0             0                 0            1   \n",
       "3                0             0                 0            0   \n",
       "4                0             0                 0            1   \n",
       "\n",
       "   MAR_SEPARATED  MAR_SINGLE  MAR_UNKNOWN (DEFAULT)  MAR_WIDOWED  \n",
       "0              0           0                      0            0  \n",
       "1              0           0                      0            0  \n",
       "2              0           0                      0            0  \n",
       "3              0           1                      0            0  \n",
       "4              0           0                      0            0  \n",
       "\n",
       "[5 rows x 49 columns]"
      ]
     },
     "execution_count": 3,
     "metadata": {},
     "output_type": "execute_result"
    }
   ],
   "source": [
    "# Look at some of the top rows of the dataset\n",
    "df.head()"
   ]
  },
  {
   "cell_type": "code",
   "execution_count": 6,
   "id": "aa03569b-0fa9-4399-8777-81121f394d86",
   "metadata": {},
   "outputs": [
    {
     "name": "stdout",
     "output_type": "stream",
     "text": [
      "<class 'pandas.core.frame.DataFrame'>\n",
      "RangeIndex: 51037 entries, 0 to 51036\n",
      "Data columns (total 49 columns):\n",
      " #   Column                      Non-Null Count  Dtype  \n",
      "---  ------                      --------------  -----  \n",
      " 0   LOS                         51037 non-null  float64\n",
      " 1   blood                       51037 non-null  float64\n",
      " 2   circulatory                 51037 non-null  float64\n",
      " 3   congenital                  51037 non-null  float64\n",
      " 4   digestive                   51037 non-null  float64\n",
      " 5   endocrine                   51037 non-null  float64\n",
      " 6   genitourinary               51037 non-null  float64\n",
      " 7   infectious                  51037 non-null  float64\n",
      " 8   injury                      51037 non-null  float64\n",
      " 9   mental                      51037 non-null  float64\n",
      " 10  misc                        51037 non-null  float64\n",
      " 11  muscular                    51037 non-null  float64\n",
      " 12  neoplasms                   51037 non-null  float64\n",
      " 13  nervous                     51037 non-null  float64\n",
      " 14  pregnancy                   51037 non-null  float64\n",
      " 15  prenatal                    51037 non-null  float64\n",
      " 16  respiratory                 51037 non-null  float64\n",
      " 17  skin                        51037 non-null  float64\n",
      " 18  GENDER                      51037 non-null  float64\n",
      " 19  ICU                         51037 non-null  float64\n",
      " 20  NICU                        51037 non-null  float64\n",
      " 21  ADM_ELECTIVE                51037 non-null  int64  \n",
      " 22  ADM_EMERGENCY               51037 non-null  int64  \n",
      " 23  ADM_NEWBORN                 51037 non-null  int64  \n",
      " 24  ADM_URGENT                  51037 non-null  int64  \n",
      " 25  INS_Government              51037 non-null  int64  \n",
      " 26  INS_Medicaid                51037 non-null  int64  \n",
      " 27  INS_Medicare                51037 non-null  int64  \n",
      " 28  INS_Private                 51037 non-null  int64  \n",
      " 29  INS_Self Pay                51037 non-null  int64  \n",
      " 30  REL_NOT SPECIFIED           51037 non-null  int64  \n",
      " 31  REL_RELIGIOUS               51037 non-null  int64  \n",
      " 32  REL_UNOBTAINABLE            51037 non-null  int64  \n",
      " 33  ETH_ASIAN                   51037 non-null  int64  \n",
      " 34  ETH_BLACK/AFRICAN AMERICAN  51037 non-null  int64  \n",
      " 35  ETH_HISPANIC/LATINO         51037 non-null  int64  \n",
      " 36  ETH_OTHER/UNKNOWN           51037 non-null  int64  \n",
      " 37  ETH_WHITE                   51037 non-null  int64  \n",
      " 38  AGE_middle_adult            51037 non-null  int64  \n",
      " 39  AGE_newborn                 51037 non-null  int64  \n",
      " 40  AGE_senior                  51037 non-null  int64  \n",
      " 41  AGE_young_adult             51037 non-null  int64  \n",
      " 42  MAR_DIVORCED                51037 non-null  int64  \n",
      " 43  MAR_LIFE PARTNER            51037 non-null  int64  \n",
      " 44  MAR_MARRIED                 51037 non-null  int64  \n",
      " 45  MAR_SEPARATED               51037 non-null  int64  \n",
      " 46  MAR_SINGLE                  51037 non-null  int64  \n",
      " 47  MAR_UNKNOWN (DEFAULT)       51037 non-null  int64  \n",
      " 48  MAR_WIDOWED                 51037 non-null  int64  \n",
      "dtypes: float64(21), int64(28)\n",
      "memory usage: 19.1 MB\n"
     ]
    }
   ],
   "source": [
    "# We look at the datatype of each column\n",
    "df.info()"
   ]
  },
  {
   "cell_type": "code",
   "execution_count": 5,
   "id": "4cb95d42-4f54-4702-b4aa-8417dc83f3d2",
   "metadata": {},
   "outputs": [
    {
     "data": {
      "text/html": [
       "<div>\n",
       "<style scoped>\n",
       "    .dataframe tbody tr th:only-of-type {\n",
       "        vertical-align: middle;\n",
       "    }\n",
       "\n",
       "    .dataframe tbody tr th {\n",
       "        vertical-align: top;\n",
       "    }\n",
       "\n",
       "    .dataframe thead th {\n",
       "        text-align: right;\n",
       "    }\n",
       "</style>\n",
       "<table border=\"1\" class=\"dataframe\">\n",
       "  <thead>\n",
       "    <tr style=\"text-align: right;\">\n",
       "      <th></th>\n",
       "      <th>LOS</th>\n",
       "      <th>blood</th>\n",
       "      <th>circulatory</th>\n",
       "      <th>congenital</th>\n",
       "      <th>digestive</th>\n",
       "      <th>endocrine</th>\n",
       "      <th>genitourinary</th>\n",
       "      <th>infectious</th>\n",
       "      <th>injury</th>\n",
       "      <th>mental</th>\n",
       "      <th>...</th>\n",
       "      <th>AGE_newborn</th>\n",
       "      <th>AGE_senior</th>\n",
       "      <th>AGE_young_adult</th>\n",
       "      <th>MAR_DIVORCED</th>\n",
       "      <th>MAR_LIFE PARTNER</th>\n",
       "      <th>MAR_MARRIED</th>\n",
       "      <th>MAR_SEPARATED</th>\n",
       "      <th>MAR_SINGLE</th>\n",
       "      <th>MAR_UNKNOWN (DEFAULT)</th>\n",
       "      <th>MAR_WIDOWED</th>\n",
       "    </tr>\n",
       "  </thead>\n",
       "  <tbody>\n",
       "    <tr>\n",
       "      <th>count</th>\n",
       "      <td>51037.000000</td>\n",
       "      <td>51037.000000</td>\n",
       "      <td>51037.000000</td>\n",
       "      <td>51037.000000</td>\n",
       "      <td>51037.000000</td>\n",
       "      <td>51037.000000</td>\n",
       "      <td>51037.000000</td>\n",
       "      <td>51037.000000</td>\n",
       "      <td>51037.000000</td>\n",
       "      <td>51037.000000</td>\n",
       "      <td>...</td>\n",
       "      <td>51037.000000</td>\n",
       "      <td>51037.000000</td>\n",
       "      <td>51037.000000</td>\n",
       "      <td>51037.000000</td>\n",
       "      <td>51037.000000</td>\n",
       "      <td>51037.000000</td>\n",
       "      <td>51037.000000</td>\n",
       "      <td>51037.000000</td>\n",
       "      <td>51037.000000</td>\n",
       "      <td>51037.000000</td>\n",
       "    </tr>\n",
       "    <tr>\n",
       "      <th>mean</th>\n",
       "      <td>10.228510</td>\n",
       "      <td>0.370711</td>\n",
       "      <td>2.260007</td>\n",
       "      <td>0.077121</td>\n",
       "      <td>0.617591</td>\n",
       "      <td>1.175030</td>\n",
       "      <td>0.503968</td>\n",
       "      <td>0.308502</td>\n",
       "      <td>2.362698</td>\n",
       "      <td>0.428963</td>\n",
       "      <td>...</td>\n",
       "      <td>0.157572</td>\n",
       "      <td>0.533103</td>\n",
       "      <td>0.079060</td>\n",
       "      <td>0.056136</td>\n",
       "      <td>0.000294</td>\n",
       "      <td>0.412916</td>\n",
       "      <td>0.010052</td>\n",
       "      <td>0.232929</td>\n",
       "      <td>0.188726</td>\n",
       "      <td>0.098948</td>\n",
       "    </tr>\n",
       "    <tr>\n",
       "      <th>std</th>\n",
       "      <td>12.461440</td>\n",
       "      <td>0.652278</td>\n",
       "      <td>2.255679</td>\n",
       "      <td>0.357821</td>\n",
       "      <td>1.119265</td>\n",
       "      <td>1.345073</td>\n",
       "      <td>0.845481</td>\n",
       "      <td>0.670549</td>\n",
       "      <td>2.206709</td>\n",
       "      <td>0.856638</td>\n",
       "      <td>...</td>\n",
       "      <td>0.364343</td>\n",
       "      <td>0.498908</td>\n",
       "      <td>0.269835</td>\n",
       "      <td>0.230186</td>\n",
       "      <td>0.017141</td>\n",
       "      <td>0.492363</td>\n",
       "      <td>0.099753</td>\n",
       "      <td>0.422702</td>\n",
       "      <td>0.391295</td>\n",
       "      <td>0.298595</td>\n",
       "    </tr>\n",
       "    <tr>\n",
       "      <th>min</th>\n",
       "      <td>0.014583</td>\n",
       "      <td>0.000000</td>\n",
       "      <td>0.000000</td>\n",
       "      <td>0.000000</td>\n",
       "      <td>0.000000</td>\n",
       "      <td>0.000000</td>\n",
       "      <td>0.000000</td>\n",
       "      <td>0.000000</td>\n",
       "      <td>0.000000</td>\n",
       "      <td>0.000000</td>\n",
       "      <td>...</td>\n",
       "      <td>0.000000</td>\n",
       "      <td>0.000000</td>\n",
       "      <td>0.000000</td>\n",
       "      <td>0.000000</td>\n",
       "      <td>0.000000</td>\n",
       "      <td>0.000000</td>\n",
       "      <td>0.000000</td>\n",
       "      <td>0.000000</td>\n",
       "      <td>0.000000</td>\n",
       "      <td>0.000000</td>\n",
       "    </tr>\n",
       "    <tr>\n",
       "      <th>25%</th>\n",
       "      <td>3.857639</td>\n",
       "      <td>0.000000</td>\n",
       "      <td>0.000000</td>\n",
       "      <td>0.000000</td>\n",
       "      <td>0.000000</td>\n",
       "      <td>0.000000</td>\n",
       "      <td>0.000000</td>\n",
       "      <td>0.000000</td>\n",
       "      <td>1.000000</td>\n",
       "      <td>0.000000</td>\n",
       "      <td>...</td>\n",
       "      <td>0.000000</td>\n",
       "      <td>0.000000</td>\n",
       "      <td>0.000000</td>\n",
       "      <td>0.000000</td>\n",
       "      <td>0.000000</td>\n",
       "      <td>0.000000</td>\n",
       "      <td>0.000000</td>\n",
       "      <td>0.000000</td>\n",
       "      <td>0.000000</td>\n",
       "      <td>0.000000</td>\n",
       "    </tr>\n",
       "    <tr>\n",
       "      <th>50%</th>\n",
       "      <td>6.583333</td>\n",
       "      <td>0.000000</td>\n",
       "      <td>2.000000</td>\n",
       "      <td>0.000000</td>\n",
       "      <td>0.000000</td>\n",
       "      <td>1.000000</td>\n",
       "      <td>0.000000</td>\n",
       "      <td>0.000000</td>\n",
       "      <td>2.000000</td>\n",
       "      <td>0.000000</td>\n",
       "      <td>...</td>\n",
       "      <td>0.000000</td>\n",
       "      <td>1.000000</td>\n",
       "      <td>0.000000</td>\n",
       "      <td>0.000000</td>\n",
       "      <td>0.000000</td>\n",
       "      <td>0.000000</td>\n",
       "      <td>0.000000</td>\n",
       "      <td>0.000000</td>\n",
       "      <td>0.000000</td>\n",
       "      <td>0.000000</td>\n",
       "    </tr>\n",
       "    <tr>\n",
       "      <th>75%</th>\n",
       "      <td>11.805556</td>\n",
       "      <td>1.000000</td>\n",
       "      <td>4.000000</td>\n",
       "      <td>0.000000</td>\n",
       "      <td>1.000000</td>\n",
       "      <td>2.000000</td>\n",
       "      <td>1.000000</td>\n",
       "      <td>0.000000</td>\n",
       "      <td>3.000000</td>\n",
       "      <td>1.000000</td>\n",
       "      <td>...</td>\n",
       "      <td>0.000000</td>\n",
       "      <td>1.000000</td>\n",
       "      <td>0.000000</td>\n",
       "      <td>0.000000</td>\n",
       "      <td>0.000000</td>\n",
       "      <td>1.000000</td>\n",
       "      <td>0.000000</td>\n",
       "      <td>0.000000</td>\n",
       "      <td>0.000000</td>\n",
       "      <td>0.000000</td>\n",
       "    </tr>\n",
       "    <tr>\n",
       "      <th>max</th>\n",
       "      <td>294.660417</td>\n",
       "      <td>6.000000</td>\n",
       "      <td>16.000000</td>\n",
       "      <td>11.000000</td>\n",
       "      <td>11.000000</td>\n",
       "      <td>12.000000</td>\n",
       "      <td>7.000000</td>\n",
       "      <td>7.000000</td>\n",
       "      <td>23.000000</td>\n",
       "      <td>11.000000</td>\n",
       "      <td>...</td>\n",
       "      <td>1.000000</td>\n",
       "      <td>1.000000</td>\n",
       "      <td>1.000000</td>\n",
       "      <td>1.000000</td>\n",
       "      <td>1.000000</td>\n",
       "      <td>1.000000</td>\n",
       "      <td>1.000000</td>\n",
       "      <td>1.000000</td>\n",
       "      <td>1.000000</td>\n",
       "      <td>1.000000</td>\n",
       "    </tr>\n",
       "  </tbody>\n",
       "</table>\n",
       "<p>8 rows × 49 columns</p>\n",
       "</div>"
      ],
      "text/plain": [
       "                LOS         blood   circulatory    congenital     digestive  \\\n",
       "count  51037.000000  51037.000000  51037.000000  51037.000000  51037.000000   \n",
       "mean      10.228510      0.370711      2.260007      0.077121      0.617591   \n",
       "std       12.461440      0.652278      2.255679      0.357821      1.119265   \n",
       "min        0.014583      0.000000      0.000000      0.000000      0.000000   \n",
       "25%        3.857639      0.000000      0.000000      0.000000      0.000000   \n",
       "50%        6.583333      0.000000      2.000000      0.000000      0.000000   \n",
       "75%       11.805556      1.000000      4.000000      0.000000      1.000000   \n",
       "max      294.660417      6.000000     16.000000     11.000000     11.000000   \n",
       "\n",
       "          endocrine  genitourinary    infectious        injury        mental  \\\n",
       "count  51037.000000   51037.000000  51037.000000  51037.000000  51037.000000   \n",
       "mean       1.175030       0.503968      0.308502      2.362698      0.428963   \n",
       "std        1.345073       0.845481      0.670549      2.206709      0.856638   \n",
       "min        0.000000       0.000000      0.000000      0.000000      0.000000   \n",
       "25%        0.000000       0.000000      0.000000      1.000000      0.000000   \n",
       "50%        1.000000       0.000000      0.000000      2.000000      0.000000   \n",
       "75%        2.000000       1.000000      0.000000      3.000000      1.000000   \n",
       "max       12.000000       7.000000      7.000000     23.000000     11.000000   \n",
       "\n",
       "       ...   AGE_newborn    AGE_senior  AGE_young_adult  MAR_DIVORCED  \\\n",
       "count  ...  51037.000000  51037.000000     51037.000000  51037.000000   \n",
       "mean   ...      0.157572      0.533103         0.079060      0.056136   \n",
       "std    ...      0.364343      0.498908         0.269835      0.230186   \n",
       "min    ...      0.000000      0.000000         0.000000      0.000000   \n",
       "25%    ...      0.000000      0.000000         0.000000      0.000000   \n",
       "50%    ...      0.000000      1.000000         0.000000      0.000000   \n",
       "75%    ...      0.000000      1.000000         0.000000      0.000000   \n",
       "max    ...      1.000000      1.000000         1.000000      1.000000   \n",
       "\n",
       "       MAR_LIFE PARTNER   MAR_MARRIED  MAR_SEPARATED    MAR_SINGLE  \\\n",
       "count      51037.000000  51037.000000   51037.000000  51037.000000   \n",
       "mean           0.000294      0.412916       0.010052      0.232929   \n",
       "std            0.017141      0.492363       0.099753      0.422702   \n",
       "min            0.000000      0.000000       0.000000      0.000000   \n",
       "25%            0.000000      0.000000       0.000000      0.000000   \n",
       "50%            0.000000      0.000000       0.000000      0.000000   \n",
       "75%            0.000000      1.000000       0.000000      0.000000   \n",
       "max            1.000000      1.000000       1.000000      1.000000   \n",
       "\n",
       "       MAR_UNKNOWN (DEFAULT)   MAR_WIDOWED  \n",
       "count           51037.000000  51037.000000  \n",
       "mean                0.188726      0.098948  \n",
       "std                 0.391295      0.298595  \n",
       "min                 0.000000      0.000000  \n",
       "25%                 0.000000      0.000000  \n",
       "50%                 0.000000      0.000000  \n",
       "75%                 0.000000      0.000000  \n",
       "max                 1.000000      1.000000  \n",
       "\n",
       "[8 rows x 49 columns]"
      ]
     },
     "execution_count": 5,
     "metadata": {},
     "output_type": "execute_result"
    }
   ],
   "source": [
    "df.describe()"
   ]
  },
  {
   "cell_type": "code",
   "execution_count": 7,
   "id": "958aa9d2-0b58-4272-90c5-728409ec6e9b",
   "metadata": {},
   "outputs": [],
   "source": [
    "# Separate target and features variable\n",
    "'''\n",
    "LOS is the target variable\n",
    "features contains independent variables\n",
    "'''\n",
    "LOS = df['LOS'].values\n",
    "features = df.drop(columns=['LOS'])"
   ]
  },
  {
   "cell_type": "code",
   "execution_count": 9,
   "id": "5dd5c679-e647-4690-b430-8dd5b3595af3",
   "metadata": {},
   "outputs": [
    {
     "data": {
      "text/plain": [
       "0"
      ]
     },
     "execution_count": 9,
     "metadata": {},
     "output_type": "execute_result"
    }
   ],
   "source": [
    "\n",
    "# Check for any NaNs\n",
    "'''\n",
    "Run this code to keep rows having required percentage of non-NA column values\n",
    "\n",
    "ratio_nonNA = 0.5\n",
    "df.dropna(thresh=np.int(ratio_nonNA*(len(df.columns)/100),inplace=True)\n",
    "\n",
    "The above code only keeps rows having atleast 50% non-NA values for columns\n",
    "'''\n",
    "df.isnull().values.sum()"
   ]
  },
  {
   "cell_type": "code",
   "execution_count": 10,
   "id": "2ab33d64-513c-4a8e-9a03-ee26f12f8008",
   "metadata": {},
   "outputs": [
    {
     "name": "stdout",
     "output_type": "stream",
     "text": [
      "Training set has 40829 samples.\n",
      "Testing set has 10208 samples.\n"
     ]
    }
   ],
   "source": [
    "# Split data into training and testing dataset\n",
    "'''\n",
    "test_size = 0.2\n",
    "This means that the test data is 20% of entire dataset\n",
    "\n",
    "random_state = 5\n",
    "This means that there if shuffling of the dataset before splitting\n",
    "Setting random_state is equivalent to setting a seed\n",
    "This is done so that we get the same result everytime we run the notebook\n",
    "'''\n",
    "x_train, x_test, y_train, y_test = train_test_split(features, \n",
    "                                                    LOS, \n",
    "                                                    test_size = .20, \n",
    "                                                    random_state = 0)\n",
    "\n",
    "# Show the results of the split\n",
    "print(\"Training set has {} samples.\".format(x_train.shape[0]))\n",
    "print(\"Testing set has {} samples.\".format(x_test.shape[0]))"
   ]
  },
  {
   "cell_type": "code",
   "execution_count": 11,
   "id": "d3693427-a8b4-40ae-a793-736d6800c976",
   "metadata": {},
   "outputs": [
    {
     "name": "stdout",
     "output_type": "stream",
     "text": [
      "LinearRegression done.\n",
      "SGDRegressor done.\n",
      "GradientBoostingRegressor done.\n",
      "KNeighborsRegressor done.\n",
      "RandomForestRegressor done.\n",
      "SVR done.\n"
     ]
    }
   ],
   "source": [
    "# Regression models for comparison\n",
    "'''\n",
    "models is a list containing the objects for ML algorithms.\n",
    "results is a dictionary where key is algorithm name and value is MAE.\n",
    "We train for each model and predict on test.\n",
    "We use the ground truth and predictions to calculate MAE.\n",
    "The MAE's for each model are stored in results.\n",
    "'''\n",
    "ml_models = [LinearRegression(),\n",
    "          SGDRegressor(random_state = 0), \n",
    "          GradientBoostingRegressor(random_state = 0), \n",
    "          KNeighborsRegressor(),\n",
    "          RandomForestRegressor(random_state = 0),\n",
    "          SVR()]\n",
    "\n",
    "results = {}\n",
    "\n",
    "for model in ml_models:\n",
    "    \n",
    "    # Instantiate and fit Regressor Model\n",
    "    reg_model = model\n",
    "    reg_model.fit(x_train, y_train)\n",
    "    \n",
    "    # Make predictions with model\n",
    "    y_test_preds = reg_model.predict(x_test)\n",
    "    \n",
    "    # Grab model name and store results associated with model\n",
    "    name = str(model).split(\"(\")[0]\n",
    "\n",
    "    results[name] = mean_absolute_error(y_test, y_test_preds)\n",
    "    print('{} done.'.format(name))"
   ]
  },
  {
   "cell_type": "code",
   "execution_count": 12,
   "id": "efb7bf5b-974c-413e-ad15-41cc409613b7",
   "metadata": {},
   "outputs": [
    {
     "name": "stdout",
     "output_type": "stream",
     "text": [
      "Mean Absolute Error\n",
      "LinearRegression : 6.092866831280886\n",
      "SGDRegressor : 6.446881916451007\n",
      "GradientBoostingRegressor : 5.587236700033559\n",
      "KNeighborsRegressor : 5.8035596400426686\n",
      "RandomForestRegressor : 5.7602112634131375\n",
      "SVR : 5.251454298258674\n"
     ]
    }
   ],
   "source": [
    "print('Mean Absolute Error')\n",
    "for i in results.keys():\n",
    "    print('{} : {}'.format(i,results[i]))"
   ]
  },
  {
   "cell_type": "code",
   "execution_count": 13,
   "id": "ac282df6-0afe-45ef-83e0-81e66f53ae71",
   "metadata": {},
   "outputs": [
    {
     "data": {
      "image/png": "[encoded data removed]",
      "text/plain": [
       "<Figure size 1500x600 with 1 Axes>"
      ]
     },
     "metadata": {},
     "output_type": "display_data"
    }
   ],
   "source": [
    "# Plot barplot for MAE\n",
    "'''\n",
    "This plot will show which model has least MAE\n",
    "We get the least MAE with SVM Regression\n",
    "'''\n",
    "ind = range(len(results))\n",
    "min_mae = min(results.values())\n",
    "\n",
    "fig = plt.figure(figsize=(15,6))\n",
    "ax = fig.subplots()\n",
    "ax.bar(ind, list(results.values()), align='center', \n",
    "        color = 'lightblue', alpha=0.8)\n",
    "plt.xticks(ind, results.keys())\n",
    "ax.axhline(y=min_mae, xmin=0, xmax=100, ls='-', color='red')\n",
    "\n",
    "\n",
    "plt.show()"
   ]
  },
  {
   "cell_type": "code",
   "execution_count": 14,
   "id": "d47f0764-2fa8-4773-8375-8ff98cce3680",
   "metadata": {},
   "outputs": [],
   "source": [
    "import tensorflow as tf\n",
    "from tensorflow.keras import backend\n",
    "from tensorflow.keras import models, regularizers, layers, optimizers, losses, metrics\n",
    "from tensorflow.keras import Sequential\n",
    "from tensorflow.keras.layers import Dense"
   ]
  },
  {
   "cell_type": "code",
   "execution_count": 18,
   "id": "c8ea6d16-e639-4066-846d-b3d4722faa38",
   "metadata": {},
   "outputs": [
    {
     "name": "stdout",
     "output_type": "stream",
     "text": [
      "Number of data points: 40829\n"
     ]
    }
   ],
   "source": [
    "\n",
    "rows = x_train.shape[0]\n",
    "cols = x_train.shape[1]\n",
    "input_shape = (cols,)\n",
    "data_count = x_train.shape[0]\n",
    "print(\"Number of data points:\", data_count)\n"
   ]
  },
  {
   "cell_type": "code",
   "execution_count": 19,
   "id": "4a083651-4913-4943-a3d5-90ea28e0588d",
   "metadata": {},
   "outputs": [
    {
     "name": "stderr",
     "output_type": "stream",
     "text": [
      "C:\\Users\\gobin\\Anaconda3\\envs\\py310\\lib\\site-packages\\keras\\src\\layers\\core\\dense.py:87: UserWarning: Do not pass an `input_shape`/`input_dim` argument to a layer. When using Sequential models, prefer using an `Input(shape)` object as the first layer in the model instead.\n",
      "  super().__init__(activity_regularizer=activity_regularizer, **kwargs)\n"
     ]
    },
    {
     "data": {
      "text/html": [
       "<pre style=\"white-space:pre;overflow-x:auto;line-height:normal;font-family:Menlo,'DejaVu Sans Mono',consolas,'Courier New',monospace\"><span style=\"font-weight: bold\">Model: \"sequential_2\"</span>\n",
       "</pre>\n"
      ],
      "text/plain": [
       "\u001b[1mModel: \"sequential_2\"\u001b[0m\n"
      ]
     },
     "metadata": {},
     "output_type": "display_data"
    },
    {
     "data": {
      "text/html": [
       "<pre style=\"white-space:pre;overflow-x:auto;line-height:normal;font-family:Menlo,'DejaVu Sans Mono',consolas,'Courier New',monospace\">┏━━━━━━━━━━━━━━━━━━━━━━━━━━━━━━━┳━━━━━━━━━━━━━━━━━━━━━━━┳━━━━━━━━━━━━━━┓\n",
       "┃<span style=\"font-weight: bold\"> Layer (type)                  </span>┃<span style=\"font-weight: bold\"> Output Shape          </span>┃<span style=\"font-weight: bold\">      Param # </span>┃\n",
       "┡━━━━━━━━━━━━━━━━━━━━━━━━━━━━━━━╇━━━━━━━━━━━━━━━━━━━━━━━╇━━━━━━━━━━━━━━┩\n",
       "│ dense_10 (<span style=\"color: #0087ff; text-decoration-color: #0087ff\">Dense</span>)              │ (<span style=\"color: #00d7ff; text-decoration-color: #00d7ff\">None</span>, <span style=\"color: #00af00; text-decoration-color: #00af00\">1024</span>)          │       <span style=\"color: #00af00; text-decoration-color: #00af00\">50,176</span> │\n",
       "├───────────────────────────────┼───────────────────────┼──────────────┤\n",
       "│ dense_11 (<span style=\"color: #0087ff; text-decoration-color: #0087ff\">Dense</span>)              │ (<span style=\"color: #00d7ff; text-decoration-color: #00d7ff\">None</span>, <span style=\"color: #00af00; text-decoration-color: #00af00\">1024</span>)          │    <span style=\"color: #00af00; text-decoration-color: #00af00\">1,049,600</span> │\n",
       "├───────────────────────────────┼───────────────────────┼──────────────┤\n",
       "│ dropout_6 (<span style=\"color: #0087ff; text-decoration-color: #0087ff\">Dropout</span>)           │ (<span style=\"color: #00d7ff; text-decoration-color: #00d7ff\">None</span>, <span style=\"color: #00af00; text-decoration-color: #00af00\">1024</span>)          │            <span style=\"color: #00af00; text-decoration-color: #00af00\">0</span> │\n",
       "├───────────────────────────────┼───────────────────────┼──────────────┤\n",
       "│ dense_12 (<span style=\"color: #0087ff; text-decoration-color: #0087ff\">Dense</span>)              │ (<span style=\"color: #00d7ff; text-decoration-color: #00d7ff\">None</span>, <span style=\"color: #00af00; text-decoration-color: #00af00\">1024</span>)          │    <span style=\"color: #00af00; text-decoration-color: #00af00\">1,049,600</span> │\n",
       "├───────────────────────────────┼───────────────────────┼──────────────┤\n",
       "│ dropout_7 (<span style=\"color: #0087ff; text-decoration-color: #0087ff\">Dropout</span>)           │ (<span style=\"color: #00d7ff; text-decoration-color: #00d7ff\">None</span>, <span style=\"color: #00af00; text-decoration-color: #00af00\">1024</span>)          │            <span style=\"color: #00af00; text-decoration-color: #00af00\">0</span> │\n",
       "├───────────────────────────────┼───────────────────────┼──────────────┤\n",
       "│ dense_13 (<span style=\"color: #0087ff; text-decoration-color: #0087ff\">Dense</span>)              │ (<span style=\"color: #00d7ff; text-decoration-color: #00d7ff\">None</span>, <span style=\"color: #00af00; text-decoration-color: #00af00\">1024</span>)          │    <span style=\"color: #00af00; text-decoration-color: #00af00\">1,049,600</span> │\n",
       "├───────────────────────────────┼───────────────────────┼──────────────┤\n",
       "│ dropout_8 (<span style=\"color: #0087ff; text-decoration-color: #0087ff\">Dropout</span>)           │ (<span style=\"color: #00d7ff; text-decoration-color: #00d7ff\">None</span>, <span style=\"color: #00af00; text-decoration-color: #00af00\">1024</span>)          │            <span style=\"color: #00af00; text-decoration-color: #00af00\">0</span> │\n",
       "├───────────────────────────────┼───────────────────────┼──────────────┤\n",
       "│ dense_14 (<span style=\"color: #0087ff; text-decoration-color: #0087ff\">Dense</span>)              │ (<span style=\"color: #00d7ff; text-decoration-color: #00d7ff\">None</span>, <span style=\"color: #00af00; text-decoration-color: #00af00\">1</span>)             │        <span style=\"color: #00af00; text-decoration-color: #00af00\">1,025</span> │\n",
       "└───────────────────────────────┴───────────────────────┴──────────────┘\n",
       "</pre>\n"
      ],
      "text/plain": [
       "┏━━━━━━━━━━━━━━━━━━━━━━━━━━━━━━━┳━━━━━━━━━━━━━━━━━━━━━━━┳━━━━━━━━━━━━━━┓\n",
       "┃\u001b[1m \u001b[0m\u001b[1mLayer (type)                 \u001b[0m\u001b[1m \u001b[0m┃\u001b[1m \u001b[0m\u001b[1mOutput Shape         \u001b[0m\u001b[1m \u001b[0m┃\u001b[1m \u001b[0m\u001b[1m     Param #\u001b[0m\u001b[1m \u001b[0m┃\n",
       "┡━━━━━━━━━━━━━━━━━━━━━━━━━━━━━━━╇━━━━━━━━━━━━━━━━━━━━━━━╇━━━━━━━━━━━━━━┩\n",
       "│ dense_10 (\u001b[38;5;33mDense\u001b[0m)              │ (\u001b[38;5;45mNone\u001b[0m, \u001b[38;5;34m1024\u001b[0m)          │       \u001b[38;5;34m50,176\u001b[0m │\n",
       "├───────────────────────────────┼───────────────────────┼──────────────┤\n",
       "│ dense_11 (\u001b[38;5;33mDense\u001b[0m)              │ (\u001b[38;5;45mNone\u001b[0m, \u001b[38;5;34m1024\u001b[0m)          │    \u001b[38;5;34m1,049,600\u001b[0m │\n",
       "├───────────────────────────────┼───────────────────────┼──────────────┤\n",
       "│ dropout_6 (\u001b[38;5;33mDropout\u001b[0m)           │ (\u001b[38;5;45mNone\u001b[0m, \u001b[38;5;34m1024\u001b[0m)          │            \u001b[38;5;34m0\u001b[0m │\n",
       "├───────────────────────────────┼───────────────────────┼──────────────┤\n",
       "│ dense_12 (\u001b[38;5;33mDense\u001b[0m)              │ (\u001b[38;5;45mNone\u001b[0m, \u001b[38;5;34m1024\u001b[0m)          │    \u001b[38;5;34m1,049,600\u001b[0m │\n",
       "├───────────────────────────────┼───────────────────────┼──────────────┤\n",
       "│ dropout_7 (\u001b[38;5;33mDropout\u001b[0m)           │ (\u001b[38;5;45mNone\u001b[0m, \u001b[38;5;34m1024\u001b[0m)          │            \u001b[38;5;34m0\u001b[0m │\n",
       "├───────────────────────────────┼───────────────────────┼──────────────┤\n",
       "│ dense_13 (\u001b[38;5;33mDense\u001b[0m)              │ (\u001b[38;5;45mNone\u001b[0m, \u001b[38;5;34m1024\u001b[0m)          │    \u001b[38;5;34m1,049,600\u001b[0m │\n",
       "├───────────────────────────────┼───────────────────────┼──────────────┤\n",
       "│ dropout_8 (\u001b[38;5;33mDropout\u001b[0m)           │ (\u001b[38;5;45mNone\u001b[0m, \u001b[38;5;34m1024\u001b[0m)          │            \u001b[38;5;34m0\u001b[0m │\n",
       "├───────────────────────────────┼───────────────────────┼──────────────┤\n",
       "│ dense_14 (\u001b[38;5;33mDense\u001b[0m)              │ (\u001b[38;5;45mNone\u001b[0m, \u001b[38;5;34m1\u001b[0m)             │        \u001b[38;5;34m1,025\u001b[0m │\n",
       "└───────────────────────────────┴───────────────────────┴──────────────┘\n"
      ]
     },
     "metadata": {},
     "output_type": "display_data"
    },
    {
     "data": {
      "text/html": [
       "<pre style=\"white-space:pre;overflow-x:auto;line-height:normal;font-family:Menlo,'DejaVu Sans Mono',consolas,'Courier New',monospace\"><span style=\"font-weight: bold\"> Total params: </span><span style=\"color: #00af00; text-decoration-color: #00af00\">3,200,001</span> (12.21 MB)\n",
       "</pre>\n"
      ],
      "text/plain": [
       "\u001b[1m Total params: \u001b[0m\u001b[38;5;34m3,200,001\u001b[0m (12.21 MB)\n"
      ]
     },
     "metadata": {},
     "output_type": "display_data"
    },
    {
     "data": {
      "text/html": [
       "<pre style=\"white-space:pre;overflow-x:auto;line-height:normal;font-family:Menlo,'DejaVu Sans Mono',consolas,'Courier New',monospace\"><span style=\"font-weight: bold\"> Trainable params: </span><span style=\"color: #00af00; text-decoration-color: #00af00\">3,200,001</span> (12.21 MB)\n",
       "</pre>\n"
      ],
      "text/plain": [
       "\u001b[1m Trainable params: \u001b[0m\u001b[38;5;34m3,200,001\u001b[0m (12.21 MB)\n"
      ]
     },
     "metadata": {},
     "output_type": "display_data"
    },
    {
     "data": {
      "text/html": [
       "<pre style=\"white-space:pre;overflow-x:auto;line-height:normal;font-family:Menlo,'DejaVu Sans Mono',consolas,'Courier New',monospace\"><span style=\"font-weight: bold\"> Non-trainable params: </span><span style=\"color: #00af00; text-decoration-color: #00af00\">0</span> (0.00 B)\n",
       "</pre>\n"
      ],
      "text/plain": [
       "\u001b[1m Non-trainable params: \u001b[0m\u001b[38;5;34m0\u001b[0m (0.00 B)\n"
      ]
     },
     "metadata": {},
     "output_type": "display_data"
    },
    {
     "name": "stdout",
     "output_type": "stream",
     "text": [
      "None\n",
      "Epoch 1/20\n",
      "\u001b[1m5104/5104\u001b[0m \u001b[32m━━━━━━━━━━━━━━━━━━━━\u001b[0m\u001b[37m\u001b[0m \u001b[1m220s\u001b[0m 42ms/step - loss: 7.3562 - mae: 5.5258 - val_loss: 6.0768 - val_mae: 5.3676\n",
      "Epoch 2/20\n",
      "\u001b[1m5104/5104\u001b[0m \u001b[32m━━━━━━━━━━━━━━━━━━━━\u001b[0m\u001b[37m\u001b[0m \u001b[1m214s\u001b[0m 42ms/step - loss: 5.8026 - mae: 5.2123 - val_loss: 5.5830 - val_mae: 5.2330\n",
      "Epoch 3/20\n",
      "\u001b[1m5104/5104\u001b[0m \u001b[32m━━━━━━━━━━━━━━━━━━━━\u001b[0m\u001b[37m\u001b[0m \u001b[1m218s\u001b[0m 43ms/step - loss: 5.4319 - mae: 5.1193 - val_loss: 5.5632 - val_mae: 5.3264\n",
      "Epoch 4/20\n",
      "\u001b[1m5104/5104\u001b[0m \u001b[32m━━━━━━━━━━━━━━━━━━━━\u001b[0m\u001b[37m\u001b[0m \u001b[1m212s\u001b[0m 42ms/step - loss: 5.4444 - mae: 5.2230 - val_loss: 5.3551 - val_mae: 5.1720\n",
      "Epoch 5/20\n",
      "\u001b[1m5104/5104\u001b[0m \u001b[32m━━━━━━━━━━━━━━━━━━━━\u001b[0m\u001b[37m\u001b[0m \u001b[1m211s\u001b[0m 41ms/step - loss: 5.2638 - mae: 5.0873 - val_loss: 5.4237 - val_mae: 5.2654\n",
      "Epoch 6/20\n",
      "\u001b[1m5104/5104\u001b[0m \u001b[32m━━━━━━━━━━━━━━━━━━━━\u001b[0m\u001b[37m\u001b[0m \u001b[1m211s\u001b[0m 41ms/step - loss: 5.2509 - mae: 5.0985 - val_loss: 5.3573 - val_mae: 5.2162\n",
      "Epoch 7/20\n",
      "\u001b[1m5104/5104\u001b[0m \u001b[32m━━━━━━━━━━━━━━━━━━━━\u001b[0m\u001b[37m\u001b[0m \u001b[1m220s\u001b[0m 43ms/step - loss: 5.2291 - mae: 5.0985 - val_loss: 5.3185 - val_mae: 5.1948\n",
      "Epoch 9/20\n",
      "\u001b[1m5104/5104\u001b[0m \u001b[32m━━━━━━━━━━━━━━━━━━━━\u001b[0m\u001b[37m\u001b[0m \u001b[1m254s\u001b[0m 41ms/step - loss: 5.0868 - mae: 4.9617 - val_loss: 5.3010 - val_mae: 5.1798\n",
      "Epoch 10/20\n",
      "\u001b[1m5104/5104\u001b[0m \u001b[32m━━━━━━━━━━━━━━━━━━━━\u001b[0m\u001b[37m\u001b[0m \u001b[1m212s\u001b[0m 42ms/step - loss: 5.1262 - mae: 5.0040 - val_loss: 5.3215 - val_mae: 5.2016\n",
      "Epoch 11/20\n",
      "\u001b[1m5104/5104\u001b[0m \u001b[32m━━━━━━━━━━━━━━━━━━━━\u001b[0m\u001b[37m\u001b[0m \u001b[1m214s\u001b[0m 42ms/step - loss: 5.1126 - mae: 4.9917 - val_loss: 5.3135 - val_mae: 5.1940\n",
      "Epoch 12/20\n",
      "\u001b[1m5104/5104\u001b[0m \u001b[32m━━━━━━━━━━━━━━━━━━━━\u001b[0m\u001b[37m\u001b[0m \u001b[1m219s\u001b[0m 43ms/step - loss: 4.9785 - mae: 4.8533 - val_loss: 5.3041 - val_mae: 5.1778\n",
      "Epoch 15/20\n",
      "\u001b[1m5104/5104\u001b[0m \u001b[32m━━━━━━━━━━━━━━━━━━━━\u001b[0m\u001b[37m\u001b[0m \u001b[1m247s\u001b[0m 40ms/step - loss: 4.9855 - mae: 4.8576 - val_loss: 5.3150 - val_mae: 5.1857\n",
      "Epoch 16/20\n",
      "\u001b[1m5104/5104\u001b[0m \u001b[32m━━━━━━━━━━━━━━━━━━━━\u001b[0m\u001b[37m\u001b[0m \u001b[1m211s\u001b[0m 41ms/step - loss: 4.9393 - mae: 4.8092 - val_loss: 5.4722 - val_mae: 5.3402\n",
      "Epoch 17/20\n",
      "\u001b[1m5104/5104\u001b[0m \u001b[32m━━━━━━━━━━━━━━━━━━━━\u001b[0m\u001b[37m\u001b[0m \u001b[1m215s\u001b[0m 42ms/step - loss: 4.9207 - mae: 4.7875 - val_loss: 5.3599 - val_mae: 5.2264\n",
      "Epoch 18/20\n",
      "\u001b[1m5104/5104\u001b[0m \u001b[32m━━━━━━━━━━━━━━━━━━━━\u001b[0m\u001b[37m\u001b[0m \u001b[1m199s\u001b[0m 39ms/step - loss: 4.8974 - mae: 4.7605 - val_loss: 5.4013 - val_mae: 5.2623\n",
      "Epoch 19/20\n",
      "\u001b[1m5104/5104\u001b[0m \u001b[32m━━━━━━━━━━━━━━━━━━━━\u001b[0m\u001b[37m\u001b[0m \u001b[1m198s\u001b[0m 39ms/step - loss: 4.7722 - mae: 4.6308 - val_loss: 5.3425 - val_mae: 5.1999\n",
      "Epoch 20/20\n",
      "\u001b[1m5104/5104\u001b[0m \u001b[32m━━━━━━━━━━━━━━━━━━━━\u001b[0m\u001b[37m\u001b[0m \u001b[1m218s\u001b[0m 43ms/step - loss: 4.8829 - mae: 4.7375 - val_loss: 5.3927 - val_mae: 5.2448\n",
      "\u001b[1m319/319\u001b[0m \u001b[32m━━━━━━━━━━━━━━━━━━━━\u001b[0m\u001b[37m\u001b[0m \u001b[1m3s\u001b[0m 9ms/step - loss: 5.2858 - mae: 5.1380\n",
      "____________________________________________________________________________________________________\n",
      "Test Loss and MAE\n",
      "results  [5.392666339874268, 5.244800567626953]\n"
     ]
    }
   ],
   "source": [
    "# Training the network\n",
    "model = models.Sequential()\n",
    "model.add(layers.Dense(1024, activation='relu', kernel_regularizer=regularizers.l2(0.001), input_shape=input_shape))\n",
    "# model.add(layers.BatchNormalization())\n",
    "model.add(layers.Dense(1024, activation='relu', kernel_regularizer=regularizers.l2(0.001)))\n",
    "model.add(layers.Dropout(0.2))\n",
    "model.add(layers.Dense(1024, activation='relu', kernel_regularizer=regularizers.l2(0.001)))\n",
    "model.add(layers.Dropout(0.2))\n",
    "model.add(layers.Dense(1024, activation='relu', kernel_regularizer=regularizers.l2(0.001)))\n",
    "model.add(layers.Dropout(0.2))\n",
    "model.add(layers.Dense(1, activation='relu'))\n",
    "print(model.summary())\n",
    "\n",
    "# FIT / TRAIN model on training daa\n",
    "\n",
    "NumEpochs = 20\n",
    "BatchSize = 8\n",
    "\n",
    "# Compile the model and fit it on the training data\n",
    "model.compile(optimizer=optimizers.Adam(learning_rate=1e-4), loss='mean_absolute_error', metrics=['mae'])\n",
    "history = model.fit(x_train, y_train, epochs=NumEpochs, batch_size=BatchSize, validation_data=(x_test, y_test))\n",
    "\n",
    "# Predicting on the test dataset\n",
    "results = model.evaluate(x_test, y_test)\n",
    "print(\"_\"*100)\n",
    "print(\"Test Loss and MAE\")\n",
    "print(\"results \", results)"
   ]
  },
  {
   "cell_type": "code",
   "execution_count": 24,
   "id": "b7afd7df-21f6-4a86-bb95-7adf3b44ff85",
   "metadata": {
    "scrolled": true
   },
   "outputs": [
    {
     "name": "stdout",
     "output_type": "stream",
     "text": [
      "blood                         1.0\n",
      "circulatory                   2.0\n",
      "congenital                    0.0\n",
      "digestive                     1.0\n",
      "endocrine                     3.0\n",
      "genitourinary                 2.0\n",
      "infectious                    0.0\n",
      "injury                        3.0\n",
      "mental                        0.0\n",
      "misc                          0.0\n",
      "muscular                      0.0\n",
      "neoplasms                     0.0\n",
      "nervous                       1.0\n",
      "pregnancy                     0.0\n",
      "prenatal                      1.0\n",
      "respiratory                   0.0\n",
      "skin                          0.0\n",
      "GENDER                        1.0\n",
      "ICU                           1.0\n",
      "NICU                          0.0\n",
      "ADM_ELECTIVE                  0.0\n",
      "ADM_EMERGENCY                 1.0\n",
      "ADM_NEWBORN                   0.0\n",
      "ADM_URGENT                    0.0\n",
      "INS_Government                0.0\n",
      "INS_Medicaid                  0.0\n",
      "INS_Medicare                  1.0\n",
      "INS_Private                   0.0\n",
      "INS_Self Pay                  0.0\n",
      "REL_NOT SPECIFIED             0.0\n",
      "REL_RELIGIOUS                 1.0\n",
      "REL_UNOBTAINABLE              0.0\n",
      "ETH_ASIAN                     0.0\n",
      "ETH_BLACK/AFRICAN AMERICAN    0.0\n",
      "ETH_HISPANIC/LATINO           0.0\n",
      "ETH_OTHER/UNKNOWN             0.0\n",
      "ETH_WHITE                     1.0\n",
      "AGE_middle_adult              0.0\n",
      "AGE_newborn                   0.0\n",
      "AGE_senior                    1.0\n",
      "AGE_young_adult               0.0\n",
      "MAR_DIVORCED                  0.0\n",
      "MAR_LIFE PARTNER              0.0\n",
      "MAR_MARRIED                   1.0\n",
      "MAR_SEPARATED                 0.0\n",
      "MAR_SINGLE                    0.0\n",
      "MAR_UNKNOWN (DEFAULT)         0.0\n",
      "MAR_WIDOWED                   0.0\n",
      "Name: 36070, dtype: float64\n"
     ]
    }
   ],
   "source": [
    "first_row_train = x_train.iloc[0]\n",
    "print(first_row_train)"
   ]
  },
  {
   "cell_type": "code",
   "execution_count": 48,
   "id": "44e5b5e3-a6c4-479a-af02-4d901813d999",
   "metadata": {},
   "outputs": [
    {
     "name": "stdin",
     "output_type": "stream",
     "text": [
      "Enter gender (male/female):  male\n"
     ]
    },
    {
     "name": "stdout",
     "output_type": "stream",
     "text": [
      "0\n"
     ]
    },
    {
     "name": "stdin",
     "output_type": "stream",
     "text": [
      "Enter age:  23\n"
     ]
    },
    {
     "name": "stdout",
     "output_type": "stream",
     "text": [
      "0 1 0 0\n"
     ]
    },
    {
     "name": "stdin",
     "output_type": "stream",
     "text": [
      "ICU or NICU?  ICU\n",
      "Admission type (elective/emergency/newborn/urgent):  elective\n"
     ]
    },
    {
     "name": "stdout",
     "output_type": "stream",
     "text": [
      "{'ADM_ELECTIVE': 1, 'ADM_EMERGENCY': 0, 'ADM_NEWBORN': 0, 'ADM_URGENT': 0}\n"
     ]
    },
    {
     "name": "stdin",
     "output_type": "stream",
     "text": [
      "Insurance type (government/medicaid/medicare/private/selfpay):  government\n"
     ]
    },
    {
     "name": "stdout",
     "output_type": "stream",
     "text": [
      "{'INS_Government': 1, 'INS_Medicaid': 0, 'INS_Medicare': 0, 'INS_Private': 0, 'INS_Self Pay': 0}\n"
     ]
    },
    {
     "name": "stdin",
     "output_type": "stream",
     "text": [
      "Religion type (not specified/religious/unobtainable):  not specified\n"
     ]
    },
    {
     "name": "stdout",
     "output_type": "stream",
     "text": [
      "{'REL_NOT SPECIFIED': 1, 'REL_RELIGIOUS': 0, 'REL_UNOBTAINABLE': 0}\n"
     ]
    },
    {
     "name": "stdin",
     "output_type": "stream",
     "text": [
      "Ethnicity type (asian/black/african american/hispanic/latino/other/unknown/white):  asian\n"
     ]
    },
    {
     "name": "stdout",
     "output_type": "stream",
     "text": [
      "{'ETH_ASIAN': 1, 'ETH_BLACK/AFRICAN AMERICAN': 0, 'ETH_HISPANIC/LATINO': 0, 'ETH_OTHER/UNKNOWN': 0, 'ETH_WHITE': 0}\n"
     ]
    },
    {
     "name": "stdin",
     "output_type": "stream",
     "text": [
      "Marital status (divorced/life partner/married/separated/single/unknown (default)/widowed):  divorced\n"
     ]
    },
    {
     "name": "stdout",
     "output_type": "stream",
     "text": [
      "{'MAR_DIVORCED': 1, 'MAR_LIFE PARTNER': 0, 'MAR_MARRIED': 0, 'MAR_SEPARATED': 0, 'MAR_SINGLE': 0, 'MAR_UNKNOWN (DEFAULT)': 0, 'MAR_WIDOWED': 0}\n"
     ]
    },
    {
     "name": "stdin",
     "output_type": "stream",
     "text": [
      "Blood column value:  0\n",
      "Circulatory column value:  1\n",
      "Congenital column value:  2\n",
      "Digestive column value:  0\n",
      "Endocrine column value:  0\n",
      "Genitourinary column value:  0\n",
      "Infectious column value:  1\n",
      "Injury column value:  0\n",
      "Mental column value:  0\n",
      "Misc column value:  1\n",
      "Muscular column value:  0\n",
      "Neoplasms column value:  1\n",
      "Nervous column value:  0\n",
      "Pregnancy column value:  1\n",
      "Prenatal column value:  2\n",
      "Respiratory column value:  1\n",
      "Skin column value:  1\n"
     ]
    },
    {
     "name": "stdout",
     "output_type": "stream",
     "text": [
      "   GENDER  AGE_newborn  AGE_young_adult  AGE_middle_adult  AGE_senior  ICU  \\\n",
      "0       0            0                1                 0           0    1   \n",
      "\n",
      "   NICU  ADM_ELECTIVE  ADM_EMERGENCY  ADM_NEWBORN  ...  injury  mental  misc  \\\n",
      "0     0             1              0            0  ...     0.0     0.0   1.0   \n",
      "\n",
      "   muscular  neoplasms  nervous  pregnancy  prenatal  respiratory  skin  \n",
      "0       0.0        1.0      0.0        1.0       2.0          1.0   1.0  \n",
      "\n",
      "[1 rows x 48 columns]\n"
     ]
    }
   ],
   "source": [
    "# Gender Input\n",
    "gender_input = input(\"Enter gender (male/female): \")\n",
    "gender = 1 if gender_input.lower() == \"female\" else 0\n",
    "print(gender)\n",
    "# Age Input\n",
    "age = int(input(\"Enter age: \"))\n",
    "age_newborn = 1 if age <= 14 else 0\n",
    "age_young_adult = 1 if 14 < age <= 34 else 0\n",
    "age_middle_adult = 1 if 34 < age <= 50 else 0\n",
    "age_senior = 1 if age > 50 else 0\n",
    "print(age_newborn,age_young_adult,age_middle_adult,age_senior)\n",
    "# ICU/NICU Input\n",
    "icu_input = input(\"ICU or NICU? \")\n",
    "icu = 1 if icu_input.lower() == \"icu\" else 0\n",
    "nicu = 1 if icu_input.lower() == \"nicu\" else 0\n",
    "\n",
    "# Admission Input\n",
    "admission_input = input(\"Admission type (elective/emergency/newborn/urgent): \").lower()\n",
    "admission = {\n",
    "    \"ADM_ELECTIVE\": 1 if admission_input == \"elective\" else 0,\n",
    "    \"ADM_EMERGENCY\": 1 if admission_input == \"emergency\" else 0,\n",
    "    \"ADM_NEWBORN\": 1 if admission_input == \"newborn\" else 0,\n",
    "    \"ADM_URGENT\": 1 if admission_input == \"urgent\" else 0\n",
    "}\n",
    "\n",
    "print(admission)\n",
    "# Insurance Input\n",
    "insurance_input = input(\"Insurance type (government/medicaid/medicare/private/selfpay): \").lower()\n",
    "insurance = {\n",
    "    \"INS_Government\": 1 if insurance_input == \"government\" else 0,\n",
    "    \"INS_Medicaid\": 1 if insurance_input == \"medicaid\" else 0,\n",
    "    \"INS_Medicare\": 1 if insurance_input == \"medicare\" else 0,\n",
    "    \"INS_Private\": 1 if insurance_input == \"private\" else 0,\n",
    "    \"INS_Self Pay\": 1 if insurance_input == \"selfpay\" else 0\n",
    "}\n",
    "print(insurance)\n",
    "# Religion Input\n",
    "religion_input = input(\"Religion type (not specified/religious/unobtainable): \").lower()\n",
    "religion_columns = {\n",
    "    \"REL_NOT SPECIFIED\": 1 if religion_input == \"not specified\" else 0,\n",
    "    \"REL_RELIGIOUS\": 1 if religion_input == \"religious\" else 0,\n",
    "    \"REL_UNOBTAINABLE\": 1 if religion_input == \"unobtainable\" else 0\n",
    "}\n",
    "print(religion_columns)\n",
    "# Ethnicity Input\n",
    "ethnicity_input = input(\"Ethnicity type (asian/black/african american/hispanic/latino/other/unknown/white): \").lower()\n",
    "ethnicity_columns = {\n",
    "    \"ETH_ASIAN\": 1 if \"asian\" in ethnicity_input else 0,\n",
    "    \"ETH_BLACK/AFRICAN AMERICAN\": 1 if \"black\" in ethnicity_input or \"african american\" in ethnicity_input else 0,\n",
    "    \"ETH_HISPANIC/LATINO\": 1 if \"hispanic\" in ethnicity_input or \"latino\" in ethnicity_input else 0,\n",
    "    \"ETH_OTHER/UNKNOWN\": 1 if \"other\" in ethnicity_input or \"unknown\" in ethnicity_input else 0,\n",
    "    \"ETH_WHITE\": 1 if \"white\" in ethnicity_input else 0\n",
    "}\n",
    "print(ethnicity_columns)\n",
    "\n",
    "# Marital Status Input\n",
    "marital_status_input = input(\"Marital status (divorced/life partner/married/separated/single/unknown (default)/widowed): \").lower()\n",
    "marital_status_columns = {\n",
    "    \"MAR_DIVORCED\": 1 if \"divorced\" in marital_status_input else 0,\n",
    "    \"MAR_LIFE PARTNER\": 1 if \"life partner\" in marital_status_input else 0,\n",
    "    \"MAR_MARRIED\": 1 if \"married\" in marital_status_input else 0,\n",
    "    \"MAR_SEPARATED\": 1 if \"separated\" in marital_status_input else 0,\n",
    "    \"MAR_SINGLE\": 1 if \"single\" in marital_status_input else 0,\n",
    "    \"MAR_UNKNOWN (DEFAULT)\": 1 if \"unknown\" in marital_status_input else 0,\n",
    "    \"MAR_WIDOWED\": 1 if \"widowed\" in marital_status_input else 0\n",
    "}\n",
    "print(marital_status_columns)\n",
    "# Creating DataFrame with user inputs\n",
    "user_data = pd.DataFrame({\n",
    "    \"GENDER\": gender,\n",
    "    \"AGE_newborn\": age_newborn,\n",
    "    \"AGE_young_adult\": age_young_adult,\n",
    "    \"AGE_middle_adult\": age_middle_adult,\n",
    "    \"AGE_senior\": age_senior,\n",
    "    \"ICU\": icu,\n",
    "    \"NICU\": nicu,\n",
    "    **admission,\n",
    "    **insurance,\n",
    "    **religion_columns,\n",
    "    **ethnicity_columns,\n",
    "    **marital_status_columns \n",
    "}, index=[0])\n",
    "# Define a dictionary to store column names and their corresponding input prompts\n",
    "column_prompts = {\n",
    "    \"blood\": \"Blood column value: \",\n",
    "    \"circulatory\": \"Circulatory column value: \",\n",
    "    \"congenital\": \"Congenital column value: \",\n",
    "    \"digestive\": \"Digestive column value: \",\n",
    "    \"endocrine\": \"Endocrine column value: \",\n",
    "    \"genitourinary\": \"Genitourinary column value: \",\n",
    "    \"infectious\": \"Infectious column value: \",\n",
    "    \"injury\": \"Injury column value: \",\n",
    "    \"mental\": \"Mental column value: \",\n",
    "    \"misc\": \"Misc column value: \",\n",
    "    \"muscular\": \"Muscular column value: \",\n",
    "    \"neoplasms\": \"Neoplasms column value: \",\n",
    "    \"nervous\": \"Nervous column value: \",\n",
    "    \"pregnancy\": \"Pregnancy column value: \",\n",
    "    \"prenatal\": \"Prenatal column value: \",\n",
    "    \"respiratory\": \"Respiratory column value: \",\n",
    "    \"skin\": \"Skin column value: \"\n",
    "}\n",
    "\n",
    "# Initialize an empty dictionary to store user inputs\n",
    "column_values = {}\n",
    "\n",
    "# Iterate over each column prompt and get user input\n",
    "for column, prompt in column_prompts.items():\n",
    "    column_values[column] = float(input(prompt))\n",
    "\n",
    "# Convert the dictionary of column values to a DataFrame\n",
    "user_data_columns = pd.DataFrame(column_values, index=[0])\n",
    "\n",
    "# Concatenate the user_data_columns DataFrame with the existing user_data DataFrame\n",
    "user_data = pd.concat([user_data, user_data_columns], axis=1)\n",
    "\n",
    "# Now you can use this `user_data` DataFrame along with your existing data.\n",
    "print(user_data)\n"
   ]
  },
  {
   "cell_type": "raw",
   "id": "e3b85aa9-e720-46bb-8cae-799b43f51d5c",
   "metadata": {},
   "source": [
    "print(user_data)"
   ]
  },
  {
   "cell_type": "code",
   "execution_count": 50,
   "id": "5bb9089c-c501-4a2b-a5ac-db78b483e03c",
   "metadata": {},
   "outputs": [
    {
     "data": {
      "text/plain": [
       "['model.pkl']"
      ]
     },
     "execution_count": 50,
     "metadata": {},
     "output_type": "execute_result"
    }
   ],
   "source": [
    "import joblib\n",
    "\n",
    "# Assuming 'model' is your trained model\n",
    "joblib.dump(model, 'model1.pkl')"
   ]
  },
  {
   "cell_type": "code",
   "execution_count": 45,
   "id": "45f93fde-c136-4133-b16a-4f0ce6ac7d73",
   "metadata": {},
   "outputs": [
    {
     "name": "stdout",
     "output_type": "stream",
     "text": [
      "\u001b[1m1/1\u001b[0m \u001b[32m━━━━━━━━━━━━━━━━━━━━\u001b[0m\u001b[37m\u001b[0m \u001b[1m0s\u001b[0m 36ms/step\n",
      "Predicted LOS (Length of Stay): [[2.620944]]\n"
     ]
    }
   ],
   "source": [
    "predictions = model.predict(user_data)\n",
    "\n",
    "# Print the predictions\n",
    "print(\"Predicted LOS (Length of Stay):\", predictions)"
   ]
  },
  {
   "cell_type": "code",
   "execution_count": 47,
   "id": "a4e6669e-c63f-4546-9e0b-48c3988bdf25",
   "metadata": {},
   "outputs": [
    {
     "name": "stdout",
     "output_type": "stream",
     "text": [
      "R2 Score: 0.33207824458666224\n"
     ]
    }
   ],
   "source": [
    "\n",
    "from sklearn.metrics import r2_score\n",
    "\n",
    "# Calculate R2 score\n",
    "r2 = r2_score(y_test, y_test_preds)\n",
    "\n",
    "print(\"R2 Score:\", r2)\n",
    "\n"
   ]
  },
  {
   "cell_type": "code",
   "execution_count": null,
   "id": "5036defd-5f0d-4c4c-863b-dc4fc36c06e2",
   "metadata": {},
   "outputs": [],
   "source": []
  }
 ],
 "metadata": {
  "kernelspec": {
   "display_name": "Python 3 (ipykernel)",
   "language": "python",
   "name": "python3"
  },
  "language_info": {
   "codemirror_mode": {
    "name": "ipython",
    "version": 3
   },
   "file_extension": ".py",
   "mimetype": "text/x-python",
   "name": "python",
   "nbconvert_exporter": "python",
   "pygments_lexer": "ipython3",
   "version": "3.10.14"
  }
 },
 "nbformat": 4,
 "nbformat_minor": 5
}
